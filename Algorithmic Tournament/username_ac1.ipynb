{
 "cells": [
  {
   "cell_type": "markdown",
   "id": "db7fddfc-bf7e-4f3e-9ec4-7dd1e5d22960",
   "metadata": {},
   "source": [
    "# <center> Econ 373: Computational Economics (with Python) </center>\n",
    "## <center> Algorithm Competition 1 (group) </center>"
   ]
  },
  {
   "cell_type": "markdown",
   "id": "255da62c",
   "metadata": {},
   "source": [
    "# <font color='#D4AF37'>Name:</font>\n",
    "\n",
    "# <font color='#D4AF37'>Group Name:</font>"
   ]
  },
  {
   "cell_type": "markdown",
   "id": "604949a0",
   "metadata": {},
   "source": [
    "# <font color='#D4AF37'> Instructions:</font>\n",
    "## The Algorithm Competition has two major sections:\n",
    "\n",
    "### The first section is checking your understanding of the competition environment. \n",
    "\n",
    "Your group is to answer a series of questions.\n",
    "- For each question, answer using the cells below the question cells.\n",
    "    - The input refers to the arguments passed to the function. (if required) \n",
    "    - The output refers to what is returned by the function. (if required)\n",
    "- We may require output to file or screen within a function, but if that is the case it will be clearly specified.\n",
    "- Your functions may call other functions or classes that you create, but they have to be included in the file (i.e., the file that you submit should be self-contained).\n",
    "- If your function calls on functions from other libraries, you need to load them within the function (e.g., if you use the os library you should assume that it has been installed on the computer but it has not been imported before calling your function).\n",
    "- Save all of your code into a .ipynb file (jupyter notebook file) and name it as **username_ac1.ipynb**, where username is the username of the group member who submits the homework. \n",
    "    - **You should remove any test cells/code.**\n",
    "    - Only include answers for the comprehension questions.\n",
    "    - If your submitted **username_ac1.ipynb** file throws any error by clicking Kernel--> Restart and Run All, grading will stop at the failing cell; you will receive credit only for the work that executed successfully up to that point.\n",
    "\n",
    "### The second section is designing a function/algorithm for the competition. \n",
    "\n",
    "Your group select one corresponder sending me the completed algorithm via my email nguye535@purdue.edu. The algorithm is written in a separated **group_name_ac1.ipynb** file:\n",
    "- The algorithm required input/output are outlined in the second part of this file.\n",
    "- The algorithm/function must be named **group_name_ac1**\n",
    "- You must follow all the required conditions to be eligible for competition.\n",
    "- Bonus points will be based on how many groups you outperform. Details for bonus points will be announced during the day of the competition "
   ]
  },
  {
   "cell_type": "markdown",
   "id": "f68ee05d",
   "metadata": {},
   "source": [
    "# The Guessing Game \n",
    "## Nagel (AER, 1995)\n",
    "\n",
    "More details can be found in the original paper posted on Brightspace"
   ]
  },
  {
   "cell_type": "markdown",
   "id": "31819f82-26e9-4e4f-90c0-03b25ddecb8c",
   "metadata": {
    "jp-MarkdownHeadingCollapsed": true
   },
   "source": [
    "## Game environment \n",
    "\n",
    "Consider the following game: \n",
    " - **Players:** $N$ agents \n",
    " - **Action:** \n",
    "    - Every agent knows the float **p**.\n",
    "    - Given **p**, $Agent_i$ pick an **integer** number $c_i$ between *0* and *100* to be their guess.\n",
    "    - Agents submit their guessed numbers $c_i$ simultaneously and independently.\n",
    " - **Rule/Winning Condition:**\n",
    "     - Let $\\bar{c} = \\dfrac{1}{N} \\sum_{i=1}^N c_i = \\dfrac{c_1 + c_2+...+c_N}{N}$ be the mean of all the guessed numbers.\n",
    "     - We call $c_p = p \\times \\bar{c}$ the target number. The distance/error of the guess $c_i$ from the target $c_p$ is measured as $d_i = |c_i - c_p|$.\n",
    "     - The winner is the agent whose guessed number $c^{\\star}$ is the **closest** to the target $c_p$, or has the smallest distance $d_i$ amongst all others.\n",
    "     - If there is a tie, the prize is divided equally among the winners. \n",
    " - The game is played for 10 rounds by the same group of agents.\n",
    " - After each round, all the guessed numbers, the mean of the guesses $\\bar{c}$, the target $c_p$, the winning guess $c^{\\ast}$ are presented to the agents. "
   ]
  },
  {
   "cell_type": "markdown",
   "id": "bfbe8442",
   "metadata": {},
   "source": [
    "##  <font color='#D4AF37'> Environment Comprehension (10 points)</font>\n",
    "\n",
    "Answer the series of the following questions to check if you are understanding the game explained in Nagel (1995)."
   ]
  },
  {
   "cell_type": "markdown",
   "id": "0057f79e",
   "metadata": {},
   "source": [
    "### Question 1\n",
    "Suppose our class has 20 groups, each chooses an **integer** between 0 and 100. The winner of the current round is the one whose guess is closest to two-thirds of the average of all the guesses for this particular round. Groups are numbered by their position in the list (Group 1 is the first number, Group 2 the second, …). Assume the 20 groups has these first round guesses:\n",
    "```python\n",
    "    86, 57, 31, 46, 48, 43, 44, 10, 18, 54, 29, 59, 75, 5, 54, 30, 65, 17, 0, 81\n",
    "``` \n",
    "- a) Based on the information above, fill in the details of the variables to complete the game environment descriptions in Python in the code chunk below.\n",
    "- b) Write a function called **roundInfo** to print out the results of the round given a list of guesses submitted: the target $c_p$, the winning guess $c^{\\ast}$, and the list of winning groups (based on their orderings in the list of guess, so in the example, Group 1 submits the guess 86, Group 2 submits the guess 57, and so on...). \n",
    "    - **Input**: two arguments\n",
    "        - a list of integers storing the guesses at the start of the round. Example:\n",
    "        ```python\n",
    "        [100,80,60,40]\n",
    "        ```\n",
    "\n",
    "        - a float p control the relative distance from the sample average of the round's guesses. Example\n",
    "        ```python\n",
    "          0.5\n",
    "        ``` \n",
    "    - **Output**: two values:\n",
    "        - an integer storing the winning guess $c^{\\ast}$ after the current round completed\n",
    "        - an integer storing the target $c_p$ after the current round completed\n",
    "\n",
    "- (c) Run your defined function and display the requested information (the target, the winning guess, and the winning groups). \n",
    "\n"
   ]
  },
  {
   "cell_type": "code",
   "execution_count": null,
   "id": "993bcb2a",
   "metadata": {},
   "outputs": [],
   "source": [
    "#change these assignments to values corresponding to the game described in Question 1\n",
    "N = 20\n",
    "p = 2/3\n",
    "#the first round guesses\n",
    "guesses0 = [86, 57, 31, 46, 48, 43, 44, 10, 18, 54, 29, 59, 75, 5, 54, 30, 65, 17, 0, 81]\n"
   ]
  },
  {
   "cell_type": "code",
   "execution_count": null,
   "id": "e621ed8d",
   "metadata": {},
   "outputs": [],
   "source": [
    "def roundInfo(guesses,p):\n",
    "    #you can write the function requested in part b) here\n",
    "    return None"
   ]
  },
  {
   "cell_type": "code",
   "execution_count": null,
   "id": "f6a91319",
   "metadata": {},
   "outputs": [],
   "source": [
    "#c) output the requested information\n",
    "#store the target of the first round and winning guess of the first round\n",
    "target1, win_guess1 = roundInfo(guesses0,p)\n"
   ]
  },
  {
   "cell_type": "code",
   "execution_count": null,
   "id": "7371b916",
   "metadata": {},
   "outputs": [],
   "source": []
  },
  {
   "cell_type": "markdown",
   "id": "6462d7ea",
   "metadata": {},
   "source": [
    "### Question 2\n",
    "In the second round, the first group changes their guessing strategy. \n",
    "- They instead submit the previous round target *rounded to nearest integer* to increase likelihood of winning. We call this strategy level-one reasoning strategy. For example, if previous round target $c_p$ is 20, then Group 1 submit a new guess 20, instead of previous round guess 86.\n",
    "- The rest of the groups submit the same guess, calling level-zero reasoning strategy. So the guesses for Group 2 to Group 20 remain:\n",
    "```python\n",
    "    57, 31, 46, ... 17, 0, 81\n",
    "```\n",
    "\n",
    "Use the Round-1 guesses from Question 1 and the same value of p. Now Group 1 applies level-one reasoning, while the rest of the groups applies level-zero reasoning strategy. Fill in the new guesses for second round, and print out the new target, the new winning guess, and winning group(s) for the second round below using **roundInfo** function."
   ]
  },
  {
   "cell_type": "code",
   "execution_count": null,
   "id": "bf8c7c63",
   "metadata": {},
   "outputs": [],
   "source": [
    "#the second round information\n",
    "guesses2 = []\n",
    "target2, win_guess2 = roundInfo(guesses2,p)"
   ]
  },
  {
   "cell_type": "markdown",
   "id": "a8e238f0",
   "metadata": {},
   "source": [
    "### Question 3\n",
    "In the third round, more groups start applying level-$k$ reasoning. In particular, if second round target is 36:\n",
    "- Group 2 switches to a level-one reasoning strategy, submitting 36 as the new guess (round 2 target). \n",
    "- Anticipating that others may also adopt level-one reasoning, Group 1 best-responds by submitting 24, which is two-thirds of the previous round target ($2/3 \\times $ round 2 target). \n",
    "- All remaining groups repeat their Round 2 guesses (level-zero reasoning). Their guesses remain:\n",
    "```python\n",
    "  31, 46, ... 17, 0, 81\n",
    "```\n",
    "\n",
    "Fill in the new guesses for the third round, and print out the new target, the new winning guess for the third round below using **roundInfo** function."
   ]
  },
  {
   "cell_type": "code",
   "execution_count": null,
   "id": "67826a98",
   "metadata": {},
   "outputs": [],
   "source": [
    "#the third round information\n",
    "guesses3 = []\n",
    "target3, win_guess3 = roundInfo(guesses3,p)"
   ]
  },
  {
   "cell_type": "markdown",
   "id": "42344c2e",
   "metadata": {},
   "source": [
    "### Question 4\n",
    "You will simulate how groups update their guesses across rounds using (simplified) level-$k$ reasoning:\n",
    "\n",
    " - **Round 1 (Initial condition)**: Each group starts with initial guess from Question 1.\n",
    " - **Round 2**:\n",
    "   - Groups update new guesses as explained in Question 2.\n",
    " - **Round 3**: \n",
    "   - Groups update new guesses as explained in Question 3. \n",
    " - **From Round 4 onward**:\n",
    "    - In round $r$, the group $r-1$ apply level-one reasoning strategy, which changes their guess to the target *rounded to the nearest integer* from the previous round $r-1$.\n",
    "    - group $r-2$ apply level-two reasoning strategy, which changes their guess to two-thirds of the target from the previous round $r-1$, and rounded their guess to the nearest integer.\n",
    "    - group $r-3$ apply level-three reasoning strategy, which anticipates some groups might apply level-two reasoning strategy, and change their guess to two-thirds of two-thirds of the target from the previous round $r-1$, and rounded their guess to the nearest integer.\n",
    "    - This level-$k$ reasoning learning pattern continues so that the first group now applying level-$r-1$ reasoning strategy, which they anticipate other groups might apply level-$r-2$ reasoning, so they change their guess accordingly.\n",
    "    - The remaining groups $r,r+1,...,N$ keep their previous guesses from round (r−1) (level-zero reasoning strategy).\n",
    " - Game ends after 10 rounds.\n",
    "\n",
    "🔹 Example walk-through (simplified version):\n",
    "\n",
    "Suppose: There are 4 groups with $p=2/3$.\n",
    "- They start with 4 initial guesses: 80, 60, 40 and 20.\n",
    "- In round 2, Group 1 applies level-one reasoning, and adjusts their guess to 33 (round 1 target). The rest applies level-zero reasoning and keep the same guess.\n",
    "- In round 3, Group 1 applies level-two reasoning, and adjusts their guess to 23 ($2/3 \\times 25 \\approx 16$); Group 2 applies level-one reasoning, and adjust their guess to 25 (round 2 target). Group 3 and Group 4 apply level-zero reasoning and keep the same guesses.\n",
    "- In round 4, Group 1 applies level-three reasoning, and adjusts their guess to 7 ($2/3 \\times 2/3 \\times 16 \\approx 7$); Group 2 applies level-two reasoning, and adjusts their guess to 10 ($2/3 \\times 16 \\approx 10$); Group 3 apply level-one reasoning, and adjust their guess to 16 (round 3 target). Finally, Group 4 apply level-zero reasoning and keep the same guess.\n",
    "- In round 5, Group 1 applies level-four reasoning, and adjusts their guess to 2 ($2/3 \\times 2/3 \\times 2/3 \\times 8 \\approx 2$); Group 2 applies level-three reasoning, and adjusts their guess to 3 ($2/3 \\times 2/3 \\times 8 \\approx 3$); Group 3 applies level-two reasoning, and adjust their guess to 5 ($2/3 \\times 8 \\approx 5$); Group 4 now start applying level-one reasoning, and adjust their guess to 8 (round 4 target).\n",
    "- The same increasements in reasoning proceeds and we have the following table:\n",
    "\n",
    "| Round | Guesses              | Winning Guess | Target (rounded to integer) | Winner(s) Group |\n",
    "|-------|----------------------|---------------|----------------|--------------|\n",
    "| 1     | [80, 60, 40, 20]     | 40            | 33             | Group 3      |\n",
    "| 2     | [33, 60, 40, 20]     | 20            | 25             | Group 4      |\n",
    "| 3     | [16, 25, 40, 20]     | 16            | 16             | Group 1      |\n",
    "| 4     | [7, 10, 16, 20]      | 7             | 8              | Group 1    |\n",
    "| 5     | [2, 3, 5, 8]         | 3             | 3              | Group 2 |\n",
    "| 6     | [0, 0, 1, 2]         | 0             | 0              | Groups 1, 2  |\n",
    "| 7     | [0, 0, 0, 0]         | 0             | 0              | Groups 1, 2, 3, 4  |\n",
    "| 8     | [0, 0, 0, 0]         | 0             | 0              | Groups 1, 2, 3, 4  |\n",
    "| 9     | [0, 0, 0, 0]         | 0             | 0              | Groups 1, 2, 3, 4  |\n",
    "| 10    | [0, 0, 0, 0]         | 0             | 0              | Groups 1, 2, 3, 4  |\n",
    "\n",
    "\n",
    "Now using the above pattern in development in level-k reasoning and initial guesses from Question 1 and report all 10 rounds via a Pandas DataFrame with columns:\n",
    "\n",
    "- Round (1–10)\n",
    "\n",
    "- Guesses (list of the guesses at the start of the round)\n",
    "\n",
    "- Winning Guess\n",
    "\n",
    "- Target \n"
   ]
  },
  {
   "cell_type": "code",
   "execution_count": null,
   "id": "8b74da06",
   "metadata": {},
   "outputs": [],
   "source": [
    "import pandas as pd"
   ]
  },
  {
   "cell_type": "markdown",
   "id": "a7c9637b",
   "metadata": {},
   "source": [
    "### Question 5 \n",
    "Based on the previous pandas Dataframe in Question 4, now plot the the target and the winning guess over the ten rounds we observe with starting guess from Question 1. "
   ]
  },
  {
   "cell_type": "code",
   "execution_count": null,
   "id": "9067c636",
   "metadata": {},
   "outputs": [],
   "source": [
    "import matplotlib.pylab as plt\n",
    "%matplotlib inline "
   ]
  },
  {
   "cell_type": "markdown",
   "id": "218ba954-e542-4355-a125-86ca8eaf4ef9",
   "metadata": {},
   "source": [
    "##  <font color='#D4AF37'> Algorithm competition (3 points + bonus points) </font>\n",
    "Write a Python function (named the function *group_name_ac1*)\n",
    "- takes 3 input:\n",
    "  - A boolean variable named ini\n",
    "  - A float named p\n",
    "  - A list named G containing guesses of other teams (including your guess) from previous round starting from second round.\n",
    "\n",
    "- and output an <span style=\"color:red\">**integer**</span> number between [0,100].\n",
    "\n",
    "\n",
    "Notes: \n",
    "- In competition, the guessing game is played for 10 rounds.\n",
    "- $p$ can be any non-negative float, and will not be announced until the competition started. Remember in comprehension section, we are looking at only a specific case of $p$. \n",
    "- $p$ is fixed throughout the ten rounds being played.\n",
    "- If too many winners, we will have additional 10-round runs with different $p$ values.\n",
    "\n",
    "**All guessing numbers** must be <span style=\"color:red\">**integers**</span> between 0 and 100. Violations immediately disqualify your programs.\n"
   ]
  },
  {
   "cell_type": "markdown",
   "id": "81ff110c-1e19-4329-a3fa-6abe29a0b39c",
   "metadata": {},
   "source": [
    "### Sample\n",
    "Here is a sample of a Python function that simply:\n",
    "- Return a guess **3** in the first round (ini is an indicator if the current round is the first round) \n",
    "- Return the rounded number of the result $p \\times N^{-1} \\sum_{i=1}^N c_i$, where $c_i$ are all the guessing numbers from previous round. (Level-one reasoning strategy).\n",
    "    \n",
    "```python\n",
    " def submitC(ini,p,A): \n",
    "        \n",
    "        if ini:\n",
    "            #first round guess\n",
    "            return 3\n",
    "        else:\n",
    "            #subsequent round guess, just round up my guess to win\n",
    "            guess_mean = sum(A)/len(A);\n",
    "            return round(p*guess_mean)\n",
    "```"
   ]
  },
  {
   "cell_type": "code",
   "execution_count": null,
   "id": "966dc2e0-211d-46f3-bdad-366e516d86e2",
   "metadata": {},
   "outputs": [],
   "source": [
    "###### YOUR ALGORITHM HERE ######\n",
    "def submitC(ini,p,G): \n",
    "        '''function that returns a whole number for the guessing game'''\n",
    "        if ini:\n",
    "            '''first round guess, pick a guess you think is the best''' \n",
    "            return \n",
    "        else:\n",
    "            '''subsequent round guess'''\n",
    "            '''code up any algorithm with your ideas, the code below is only a sample.'''\n",
    "            return "
   ]
  },
  {
   "cell_type": "markdown",
   "id": "c89a3af4-88d9-47c7-8d3b-19666b1fe8d6",
   "metadata": {},
   "source": [
    "### Test run for your code below\n",
    "You can copy the Python code in this cell to check if your Python function above works as intended. <br>\n",
    "<span style=\"color:red\">**IMPORTANCE**</span> All the return values from your function must be <span style=\"color:red\">**integers**</span> between 0 and 100.\n",
    "\n",
    "```python\n",
    "#First round (blind guesses)\n",
    "ini = True\n",
    "c1 = submitC(ini,[])\n",
    "print('Round 1 guess: ',c1)\n",
    "\n",
    "#Second round (observed guesses from previous round)\n",
    "ini = False\n",
    "import random\n",
    "# Simulate random guesses from other players \n",
    "guesses_prv = [random.randint(0, 100) for _ in range(25)]\n",
    "print(guesses_prv)\n",
    "c2 = submitC(ini,guesses_prv)\n",
    "print('Round 2 guess: ',c2)\n",
    "```"
   ]
  },
  {
   "cell_type": "code",
   "execution_count": null,
   "id": "18f4ddc2-8ba8-49d9-8ee5-920444ea9e17",
   "metadata": {},
   "outputs": [],
   "source": []
  }
 ],
 "metadata": {
  "kernelspec": {
   "display_name": "Python 3 (ipykernel)",
   "language": "python",
   "name": "python3"
  },
  "language_info": {
   "codemirror_mode": {
    "name": "ipython",
    "version": 3
   },
   "file_extension": ".py",
   "mimetype": "text/x-python",
   "name": "python",
   "nbconvert_exporter": "python",
   "pygments_lexer": "ipython3",
   "version": "3.12.5"
  }
 },
 "nbformat": 4,
 "nbformat_minor": 5
}
